{
  "cells": [
    {
      "cell_type": "markdown",
      "metadata": {
        "id": "view-in-github",
        "colab_type": "text"
      },
      "source": [
        "<a href=\"https://colab.research.google.com/github/gideonler/Data-Science-in-Business/blob/main/iForest_and_Autoencoders_exercises.ipynb\" target=\"_parent\"><img src=\"https://colab.research.google.com/assets/colab-badge.svg\" alt=\"Open In Colab\"/></a>"
      ]
    },
    {
      "cell_type": "markdown",
      "id": "8e510cfa",
      "metadata": {
        "id": "8e510cfa"
      },
      "source": [
        "# Libraries import"
      ]
    },
    {
      "cell_type": "code",
      "execution_count": null,
      "id": "ca0c9a47",
      "metadata": {
        "id": "ca0c9a47"
      },
      "outputs": [],
      "source": [
        "import pandas as pd\n",
        "import numpy as np\n",
        "from sklearn import metrics\n",
        "from sklearn.ensemble import IsolationForest\n",
        "from sklearn.metrics import confusion_matrix, classification_report\n",
        "from sklearn.preprocessing import MinMaxScaler\n",
        "from tensorflow.keras.layers import Dense, Dropout\n",
        "from keras.models import Model, Sequential\n",
        "import tensorflow as tf"
      ]
    },
    {
      "cell_type": "markdown",
      "id": "8f981107",
      "metadata": {
        "id": "8f981107"
      },
      "source": [
        "# Anomaly transformation function"
      ]
    },
    {
      "cell_type": "code",
      "execution_count": null,
      "id": "a9988a0d",
      "metadata": {
        "id": "a9988a0d"
      },
      "outputs": [],
      "source": [
        "# Assigning values of 1 to anomalies and values of 0 to non-anomalous data\n",
        "def def_anomaly(df):\n",
        "    if (df['y_pred'] in [-1]):\n",
        "        val = 1\n",
        "    else:\n",
        "        val = 0\n",
        "    return val"
      ]
    },
    {
      "cell_type": "markdown",
      "id": "cab6357a",
      "metadata": {
        "id": "cab6357a"
      },
      "source": [
        "# Data import"
      ]
    },
    {
      "cell_type": "markdown",
      "id": "f1be862f",
      "metadata": {
        "id": "f1be862f"
      },
      "source": [
        "Source: https://towardsdatascience.com/adrepository-anomaly-detection-datasets-with-real-anomalies-2ee218f76292"
      ]
    },
    {
      "cell_type": "code",
      "execution_count": null,
      "id": "fb907de2",
      "metadata": {
        "id": "fb907de2"
      },
      "outputs": [],
      "source": [
        "data = pd.read_csv('./bank.csv')"
      ]
    },
    {
      "cell_type": "code",
      "execution_count": null,
      "id": "b93f1a8a",
      "metadata": {
        "id": "b93f1a8a",
        "outputId": "f6a184e3-16d1-4aac-8db6-7ff0e728fd79"
      },
      "outputs": [
        {
          "data": {
            "text/html": [
              "<div>\n",
              "<style scoped>\n",
              "    .dataframe tbody tr th:only-of-type {\n",
              "        vertical-align: middle;\n",
              "    }\n",
              "\n",
              "    .dataframe tbody tr th {\n",
              "        vertical-align: top;\n",
              "    }\n",
              "\n",
              "    .dataframe thead th {\n",
              "        text-align: right;\n",
              "    }\n",
              "</style>\n",
              "<table border=\"1\" class=\"dataframe\">\n",
              "  <thead>\n",
              "    <tr style=\"text-align: right;\">\n",
              "      <th></th>\n",
              "      <th>age</th>\n",
              "      <th>job=housemaid</th>\n",
              "      <th>job=services</th>\n",
              "      <th>job=admin.</th>\n",
              "      <th>job=blue-collar</th>\n",
              "      <th>job=technician</th>\n",
              "      <th>job=retired</th>\n",
              "      <th>job=management</th>\n",
              "      <th>job=unemployed</th>\n",
              "      <th>job=self-employed</th>\n",
              "      <th>...</th>\n",
              "      <th>previous</th>\n",
              "      <th>poutcome=nonexistent</th>\n",
              "      <th>poutcome=failure</th>\n",
              "      <th>poutcome=success</th>\n",
              "      <th>emp.var.rate</th>\n",
              "      <th>cons.price.idx</th>\n",
              "      <th>cons.conf.idx</th>\n",
              "      <th>euribor3m</th>\n",
              "      <th>nr.employed</th>\n",
              "      <th>class</th>\n",
              "    </tr>\n",
              "  </thead>\n",
              "  <tbody>\n",
              "    <tr>\n",
              "      <th>0</th>\n",
              "      <td>0.209877</td>\n",
              "      <td>0</td>\n",
              "      <td>0</td>\n",
              "      <td>0</td>\n",
              "      <td>0</td>\n",
              "      <td>0</td>\n",
              "      <td>0</td>\n",
              "      <td>0</td>\n",
              "      <td>0</td>\n",
              "      <td>0</td>\n",
              "      <td>...</td>\n",
              "      <td>0.000000</td>\n",
              "      <td>1</td>\n",
              "      <td>0</td>\n",
              "      <td>0</td>\n",
              "      <td>1.000000</td>\n",
              "      <td>0.882307</td>\n",
              "      <td>0.376569</td>\n",
              "      <td>0.980730</td>\n",
              "      <td>1.000000</td>\n",
              "      <td>0</td>\n",
              "    </tr>\n",
              "    <tr>\n",
              "      <th>1</th>\n",
              "      <td>0.296296</td>\n",
              "      <td>0</td>\n",
              "      <td>0</td>\n",
              "      <td>1</td>\n",
              "      <td>0</td>\n",
              "      <td>0</td>\n",
              "      <td>0</td>\n",
              "      <td>0</td>\n",
              "      <td>0</td>\n",
              "      <td>0</td>\n",
              "      <td>...</td>\n",
              "      <td>0.000000</td>\n",
              "      <td>1</td>\n",
              "      <td>0</td>\n",
              "      <td>0</td>\n",
              "      <td>1.000000</td>\n",
              "      <td>0.484412</td>\n",
              "      <td>0.615063</td>\n",
              "      <td>0.981183</td>\n",
              "      <td>1.000000</td>\n",
              "      <td>0</td>\n",
              "    </tr>\n",
              "    <tr>\n",
              "      <th>2</th>\n",
              "      <td>0.246914</td>\n",
              "      <td>1</td>\n",
              "      <td>0</td>\n",
              "      <td>0</td>\n",
              "      <td>0</td>\n",
              "      <td>0</td>\n",
              "      <td>0</td>\n",
              "      <td>0</td>\n",
              "      <td>0</td>\n",
              "      <td>0</td>\n",
              "      <td>...</td>\n",
              "      <td>0.000000</td>\n",
              "      <td>1</td>\n",
              "      <td>0</td>\n",
              "      <td>0</td>\n",
              "      <td>0.937500</td>\n",
              "      <td>0.698753</td>\n",
              "      <td>0.602510</td>\n",
              "      <td>0.957379</td>\n",
              "      <td>0.859735</td>\n",
              "      <td>0</td>\n",
              "    </tr>\n",
              "    <tr>\n",
              "      <th>3</th>\n",
              "      <td>0.160494</td>\n",
              "      <td>0</td>\n",
              "      <td>1</td>\n",
              "      <td>0</td>\n",
              "      <td>0</td>\n",
              "      <td>0</td>\n",
              "      <td>0</td>\n",
              "      <td>0</td>\n",
              "      <td>0</td>\n",
              "      <td>0</td>\n",
              "      <td>...</td>\n",
              "      <td>0.142857</td>\n",
              "      <td>0</td>\n",
              "      <td>1</td>\n",
              "      <td>0</td>\n",
              "      <td>0.333333</td>\n",
              "      <td>0.269680</td>\n",
              "      <td>0.192469</td>\n",
              "      <td>0.150759</td>\n",
              "      <td>0.512287</td>\n",
              "      <td>0</td>\n",
              "    </tr>\n",
              "    <tr>\n",
              "      <th>4</th>\n",
              "      <td>0.530864</td>\n",
              "      <td>0</td>\n",
              "      <td>0</td>\n",
              "      <td>0</td>\n",
              "      <td>1</td>\n",
              "      <td>0</td>\n",
              "      <td>0</td>\n",
              "      <td>0</td>\n",
              "      <td>0</td>\n",
              "      <td>0</td>\n",
              "      <td>...</td>\n",
              "      <td>0.000000</td>\n",
              "      <td>1</td>\n",
              "      <td>0</td>\n",
              "      <td>0</td>\n",
              "      <td>0.333333</td>\n",
              "      <td>0.340608</td>\n",
              "      <td>0.154812</td>\n",
              "      <td>0.174790</td>\n",
              "      <td>0.512287</td>\n",
              "      <td>1</td>\n",
              "    </tr>\n",
              "  </tbody>\n",
              "</table>\n",
              "<p>5 rows × 63 columns</p>\n",
              "</div>"
            ],
            "text/plain": [
              "        age  job=housemaid  job=services  job=admin.  job=blue-collar  \\\n",
              "0  0.209877              0             0           0                0   \n",
              "1  0.296296              0             0           1                0   \n",
              "2  0.246914              1             0           0                0   \n",
              "3  0.160494              0             1           0                0   \n",
              "4  0.530864              0             0           0                1   \n",
              "\n",
              "   job=technician  job=retired  job=management  job=unemployed  \\\n",
              "0               0            0               0               0   \n",
              "1               0            0               0               0   \n",
              "2               0            0               0               0   \n",
              "3               0            0               0               0   \n",
              "4               0            0               0               0   \n",
              "\n",
              "   job=self-employed  ...  previous  poutcome=nonexistent  poutcome=failure  \\\n",
              "0                  0  ...  0.000000                     1                 0   \n",
              "1                  0  ...  0.000000                     1                 0   \n",
              "2                  0  ...  0.000000                     1                 0   \n",
              "3                  0  ...  0.142857                     0                 1   \n",
              "4                  0  ...  0.000000                     1                 0   \n",
              "\n",
              "   poutcome=success  emp.var.rate  cons.price.idx  cons.conf.idx  euribor3m  \\\n",
              "0                 0      1.000000        0.882307       0.376569   0.980730   \n",
              "1                 0      1.000000        0.484412       0.615063   0.981183   \n",
              "2                 0      0.937500        0.698753       0.602510   0.957379   \n",
              "3                 0      0.333333        0.269680       0.192469   0.150759   \n",
              "4                 0      0.333333        0.340608       0.154812   0.174790   \n",
              "\n",
              "   nr.employed  class  \n",
              "0     1.000000      0  \n",
              "1     1.000000      0  \n",
              "2     0.859735      0  \n",
              "3     0.512287      0  \n",
              "4     0.512287      1  \n",
              "\n",
              "[5 rows x 63 columns]"
            ]
          },
          "execution_count": 110,
          "metadata": {},
          "output_type": "execute_result"
        }
      ],
      "source": [
        "data.head()"
      ]
    },
    {
      "cell_type": "code",
      "execution_count": null,
      "id": "2a7c483e",
      "metadata": {
        "id": "2a7c483e",
        "outputId": "f76dc7d4-ab01-4116-bccc-984da81cd005"
      },
      "outputs": [
        {
          "data": {
            "text/plain": [
              "(41188, 63)"
            ]
          },
          "execution_count": 111,
          "metadata": {},
          "output_type": "execute_result"
        }
      ],
      "source": [
        "data.shape"
      ]
    },
    {
      "cell_type": "markdown",
      "id": "2d992a45",
      "metadata": {
        "id": "2d992a45"
      },
      "source": [
        "# iForest"
      ]
    },
    {
      "cell_type": "code",
      "execution_count": null,
      "id": "dc17baed",
      "metadata": {
        "id": "dc17baed"
      },
      "outputs": [],
      "source": [
        "# training iForest model with the same hyper-parameters as in the original iForest paper\n",
        "# we train model on the data without labels\n",
        "rng = np.random.RandomState(42)\n",
        "clf = IsolationForest(max_samples=256, random_state=rng, n_estimators=100)\n",
        "clf.fit(data.loc[:, data.columns != 'class'])\n",
        "# predicting whether the observation is anomalous: y_pred = -1 for anomalies and y_pred = 1 for non-anomalous data\n",
        "y_pred = clf.predict(data.loc[:, data.columns != 'class'])"
      ]
    },
    {
      "cell_type": "code",
      "execution_count": null,
      "id": "0ef8ee4d",
      "metadata": {
        "id": "0ef8ee4d"
      },
      "outputs": [],
      "source": [
        "# transforming anomaly score to 1s for anomalies and 0s for non-anomalies \n",
        "data['y_pred'] = y_pred\n",
        "data['prediction'] = data.apply(def_anomaly, axis = 1)"
      ]
    },
    {
      "cell_type": "code",
      "execution_count": null,
      "id": "a9a040ff",
      "metadata": {
        "id": "a9a040ff",
        "outputId": "f3d16f16-d60f-4a9a-b19b-170a3e390882"
      },
      "outputs": [
        {
          "data": {
            "text/plain": [
              "array([[34293,  2255],\n",
              "       [ 3355,  1285]], dtype=int64)"
            ]
          },
          "execution_count": 114,
          "metadata": {},
          "output_type": "execute_result"
        }
      ],
      "source": [
        "# displaying confusion matrix\n",
        "confusion_matrix(data['class'], data['prediction'])"
      ]
    },
    {
      "cell_type": "code",
      "execution_count": null,
      "id": "3034e73c",
      "metadata": {
        "id": "3034e73c",
        "outputId": "f2a488da-8b8c-431d-8b27-77e1a9d0d990"
      },
      "outputs": [
        {
          "data": {
            "text/plain": [
              "0.6076199862816211"
            ]
          },
          "execution_count": 115,
          "metadata": {},
          "output_type": "execute_result"
        }
      ],
      "source": [
        "# displaying AUC\n",
        "fpr, tpr, _ = metrics.roc_curve(data['class'], data['prediction'])\n",
        "metrics.auc(fpr, tpr)"
      ]
    },
    {
      "cell_type": "code",
      "execution_count": null,
      "id": "80440d12",
      "metadata": {
        "id": "80440d12",
        "outputId": "e5593da1-1e58-4827-844c-6ec6ee7bc611"
      },
      "outputs": [
        {
          "name": "stdout",
          "output_type": "stream",
          "text": [
            "              precision    recall  f1-score   support\n",
            "\n",
            "           0       0.91      0.94      0.92     36548\n",
            "           1       0.36      0.28      0.31      4640\n",
            "\n",
            "    accuracy                           0.86     41188\n",
            "   macro avg       0.64      0.61      0.62     41188\n",
            "weighted avg       0.85      0.86      0.86     41188\n",
            "\n"
          ]
        }
      ],
      "source": [
        "# displaying precision and recall\n",
        "print(classification_report(data['class'], data['prediction'], target_names = ['0','1']))"
      ]
    },
    {
      "cell_type": "markdown",
      "id": "88688b62",
      "metadata": {
        "id": "88688b62"
      },
      "source": [
        "# Deep Autoencoders"
      ]
    },
    {
      "cell_type": "markdown",
      "id": "31bc330a",
      "metadata": {
        "id": "31bc330a"
      },
      "source": [
        "Source: https://www.analyticsvidhya.com/blog/2021/05/anomaly-detection-using-autoencoders-a-walk-through-in-python/"
      ]
    },
    {
      "cell_type": "code",
      "execution_count": null,
      "id": "5767465c",
      "metadata": {
        "id": "5767465c"
      },
      "outputs": [],
      "source": [
        "# making target and features dataframes \n",
        "features = data.drop(columns = ['class'])\n",
        "target = data['class']"
      ]
    },
    {
      "cell_type": "code",
      "execution_count": null,
      "id": "cee192bd",
      "metadata": {
        "id": "cee192bd"
      },
      "outputs": [],
      "source": [
        "# min max scale the features data to the range [0,1]\n",
        "min_max_scaler = MinMaxScaler(feature_range=(0, 1))\n",
        "x_train_scaled = min_max_scaler.fit_transform(features.copy())"
      ]
    },
    {
      "cell_type": "code",
      "execution_count": null,
      "id": "67696a84",
      "metadata": {
        "id": "67696a84"
      },
      "outputs": [],
      "source": [
        "# Building a deep autoencoder of 7 layes:\n",
        "# an input layer with sigmoid activation function\n",
        "# 5 hidden layers with relu activation function and \n",
        "# an output layer with sigmoid activation function \n",
        "class AutoEncoder(Model):\n",
        "\n",
        "    def __init__(self, output_units):\n",
        "        super().__init__()\n",
        "        self.encoder = Sequential([\n",
        "          Dense(31,input_dim = output_units, activation='sigmoid'),\n",
        "          Dropout(0.1),\n",
        "          Dense(15, activation='relu'),\n",
        "          Dropout(0.1),\n",
        "          Dense(7, activation='relu')\n",
        "        ])\n",
        "        self.decoder = Sequential([\n",
        "          Dense(15, activation='relu'),\n",
        "          Dropout(0.1),\n",
        "          Dense(31,  activation='relu'),\n",
        "          Dropout(0.1),\n",
        "          Dense(output_units, activation='sigmoid')\n",
        "        ])\n",
        "  \n",
        "    def call(self, inputs):\n",
        "        encoded = self.encoder(inputs)\n",
        "        decoded = self.decoder(encoded)\n",
        "        return decoded"
      ]
    },
    {
      "cell_type": "code",
      "execution_count": null,
      "id": "9429b87f",
      "metadata": {
        "id": "9429b87f"
      },
      "outputs": [],
      "source": [
        "# defining function for finding threshold for an anomaly \n",
        "# threshold is calculated as the mean of reconstruction error + std of reconstruction errors\n",
        "def find_threshold(model, x_train_scaled):\n",
        "    reconstructions = model.predict(x_train_scaled)\n",
        "  # provides losses of individual instances\n",
        "    reconstruction_errors = tf.keras.losses.msle(reconstructions, x_train_scaled)\n",
        "  # threshold for anomaly scores\n",
        "    threshold = np.mean(reconstruction_errors.numpy()) \\\n",
        "      + np.std(reconstruction_errors.numpy())\n",
        "    return threshold\n",
        "\n",
        "#defining function for predicting with the model and calculating reconstruction errors that serve as anomaly scores \n",
        "def get_predictions(model, x_train_scaled, threshold):\n",
        "    predictions = model.predict(x_train_scaled)\n",
        "  # provides losses of individual instances\n",
        "    errors = tf.keras.losses.msle(predictions, x_train_scaled)\n",
        "  # 1 = anomaly, 0 = normal\n",
        "    anomaly_mask = pd.Series(errors) > threshold\n",
        "    preds = anomaly_mask.map(lambda x: 1.0 if x == True else 0.0)\n",
        "    return preds"
      ]
    },
    {
      "cell_type": "code",
      "execution_count": null,
      "id": "dc4152a0",
      "metadata": {
        "id": "dc4152a0",
        "outputId": "5d0d608c-0946-49ec-d27c-ca0e4aaa0ecd"
      },
      "outputs": [
        {
          "name": "stdout",
          "output_type": "stream",
          "text": [
            "Epoch 1/20\n",
            "81/81 [==============================] - 1s 3ms/step - loss: 0.0887 - mse: 0.1590\n",
            "Epoch 2/20\n",
            "81/81 [==============================] - 0s 4ms/step - loss: 0.0478 - mse: 0.1005\n",
            "Epoch 3/20\n",
            "81/81 [==============================] - 0s 4ms/step - loss: 0.0466 - mse: 0.0983\n",
            "Epoch 4/20\n",
            "81/81 [==============================] - 0s 4ms/step - loss: 0.0458 - mse: 0.0969\n",
            "Epoch 5/20\n",
            "81/81 [==============================] - 0s 4ms/step - loss: 0.0442 - mse: 0.0935\n",
            "Epoch 6/20\n",
            "81/81 [==============================] - 0s 4ms/step - loss: 0.0422 - mse: 0.0891\n",
            "Epoch 7/20\n",
            "81/81 [==============================] - 0s 4ms/step - loss: 0.0398 - mse: 0.0841\n",
            "Epoch 8/20\n",
            "81/81 [==============================] - 0s 4ms/step - loss: 0.0385 - mse: 0.0814\n",
            "Epoch 9/20\n",
            "81/81 [==============================] - 0s 4ms/step - loss: 0.0378 - mse: 0.0797\n",
            "Epoch 10/20\n",
            "81/81 [==============================] - 0s 4ms/step - loss: 0.0372 - mse: 0.0786\n",
            "Epoch 11/20\n",
            "81/81 [==============================] - 0s 4ms/step - loss: 0.0367 - mse: 0.0774\n",
            "Epoch 12/20\n",
            "81/81 [==============================] - 0s 4ms/step - loss: 0.0362 - mse: 0.0763\n",
            "Epoch 13/20\n",
            "81/81 [==============================] - 0s 4ms/step - loss: 0.0354 - mse: 0.0746\n",
            "Epoch 14/20\n",
            "81/81 [==============================] - 0s 4ms/step - loss: 0.0345 - mse: 0.0728\n",
            "Epoch 15/20\n",
            "81/81 [==============================] - 0s 4ms/step - loss: 0.0338 - mse: 0.0713\n",
            "Epoch 16/20\n",
            "81/81 [==============================] - 0s 4ms/step - loss: 0.0333 - mse: 0.0701\n",
            "Epoch 17/20\n",
            "81/81 [==============================] - 0s 4ms/step - loss: 0.0327 - mse: 0.0690\n",
            "Epoch 18/20\n",
            "81/81 [==============================] - 0s 4ms/step - loss: 0.0323 - mse: 0.0681\n",
            "Epoch 19/20\n",
            "81/81 [==============================] - 0s 4ms/step - loss: 0.0319 - mse: 0.0674\n",
            "Epoch 20/20\n",
            "81/81 [==============================] - 0s 4ms/step - loss: 0.0316 - mse: 0.0667\n",
            "Threshold: 0.037522189389156975\n"
          ]
        }
      ],
      "source": [
        "# training the model and getting predictions \n",
        "model = AutoEncoder(output_units=x_train_scaled.shape[1])\n",
        "\n",
        "model.compile(loss='msle', metrics=['mse'], optimizer='adam')\n",
        "\n",
        "history = model.fit(\n",
        "    x_train_scaled,\n",
        "    x_train_scaled,\n",
        "    epochs=20,\n",
        "    batch_size=512,\n",
        ")\n",
        "\n",
        "threshold = find_threshold(model, x_train_scaled)\n",
        "print(f\"Threshold: {threshold}\")\n",
        "\n",
        "predictions = get_predictions(model, x_train_scaled, threshold)"
      ]
    },
    {
      "cell_type": "code",
      "execution_count": null,
      "id": "5a6576ff",
      "metadata": {
        "id": "5a6576ff",
        "outputId": "05d4321f-fb52-4fd4-ff7b-0c5b0f1e797d"
      },
      "outputs": [
        {
          "data": {
            "text/plain": [
              "array([[32286,  4262],\n",
              "       [ 3490,  1150]], dtype=int64)"
            ]
          },
          "execution_count": 123,
          "metadata": {},
          "output_type": "execute_result"
        }
      ],
      "source": [
        "# displaying confusion matrix\n",
        "confusion_matrix(target, predictions)"
      ]
    },
    {
      "cell_type": "code",
      "execution_count": null,
      "id": "ffd63c0b",
      "metadata": {
        "id": "ffd63c0b",
        "outputId": "a7213dba-109c-48aa-b776-ab771b974862"
      },
      "outputs": [
        {
          "data": {
            "text/plain": [
              "0.5656155296954783"
            ]
          },
          "execution_count": 124,
          "metadata": {},
          "output_type": "execute_result"
        }
      ],
      "source": [
        "# displaying AUC \n",
        "fpr, tpr, _ = metrics.roc_curve(target, predictions)\n",
        "metrics.auc(fpr, tpr)"
      ]
    },
    {
      "cell_type": "code",
      "execution_count": null,
      "id": "32cc24e1",
      "metadata": {
        "id": "32cc24e1",
        "outputId": "7e8968e9-441e-437e-bf11-57524afde54f"
      },
      "outputs": [
        {
          "name": "stdout",
          "output_type": "stream",
          "text": [
            "              precision    recall  f1-score   support\n",
            "\n",
            "           0       0.90      0.88      0.89     36548\n",
            "           1       0.21      0.25      0.23      4640\n",
            "\n",
            "    accuracy                           0.81     41188\n",
            "   macro avg       0.56      0.57      0.56     41188\n",
            "weighted avg       0.82      0.81      0.82     41188\n",
            "\n"
          ]
        }
      ],
      "source": [
        "# displaying precision and recall \n",
        "print(classification_report(target, predictions, target_names = ['0','1']))"
      ]
    },
    {
      "cell_type": "code",
      "execution_count": null,
      "id": "3f68f7d8",
      "metadata": {
        "id": "3f68f7d8"
      },
      "outputs": [],
      "source": []
    }
  ],
  "metadata": {
    "kernelspec": {
      "display_name": "Python 3 (ipykernel)",
      "language": "python",
      "name": "python3"
    },
    "language_info": {
      "codemirror_mode": {
        "name": "ipython",
        "version": 3
      },
      "file_extension": ".py",
      "mimetype": "text/x-python",
      "name": "python",
      "nbconvert_exporter": "python",
      "pygments_lexer": "ipython3",
      "version": "3.9.5"
    },
    "colab": {
      "provenance": [],
      "include_colab_link": true
    }
  },
  "nbformat": 4,
  "nbformat_minor": 5
}